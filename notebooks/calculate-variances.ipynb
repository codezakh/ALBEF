{
 "cells": [
  {
   "cell_type": "code",
   "execution_count": 1,
   "id": "0dcc855b",
   "metadata": {},
   "outputs": [],
   "source": [
    "import pandas as pd\n",
    "import numpy as np"
   ]
  },
  {
   "cell_type": "code",
   "execution_count": 50,
   "id": "54b8bf30",
   "metadata": {},
   "outputs": [],
   "source": [
    "to_digits = 1"
   ]
  },
  {
   "cell_type": "markdown",
   "id": "34f8d639",
   "metadata": {},
   "source": [
    "# SIMLA\n",
    "## COCO"
   ]
  },
  {
   "cell_type": "code",
   "execution_count": 75,
   "id": "d7a96005",
   "metadata": {},
   "outputs": [],
   "source": [
    "coco = [\n",
    "    {'txt_r1': 76.1, 'txt_r5': 92.8, 'txt_r10': 96.2, 'txt_r_mean': 0, 'img_r1': 57.9, 'img_r5': 82.4, 'img_r10': 98.4, 'img_r_mean': 0, 'r_mean': 0},\n",
    "    {'txt_r1': 75.56, 'txt_r5': 92.58, 'txt_r10': 96.12, 'txt_r_mean': 88.08666666666666, 'img_r1': 57.56776205325018, 'img_r5': 81.70224674182458, 'img_r10': 88.72231550331814, 'img_r_mean': 75.99744143279764, 'r_mean': 82.04205404973214},\n",
    "    {'txt_r1': 75.64, 'txt_r5': 93.18, 'txt_r10': 96.32, 'txt_r_mean': 88.38, 'img_r1': 57.519788918205805, 'img_r5': 81.74222435436155, 'img_r10': 88.83825057967537, 'img_r_mean': 76.03342128408092, 'r_mean': 82.20671064204046}\n",
    "]"
   ]
  },
  {
   "cell_type": "code",
   "execution_count": 76,
   "id": "338d9f67",
   "metadata": {},
   "outputs": [
    {
     "data": {
      "text/html": [
       "<div>\n",
       "<style scoped>\n",
       "    .dataframe tbody tr th:only-of-type {\n",
       "        vertical-align: middle;\n",
       "    }\n",
       "\n",
       "    .dataframe tbody tr th {\n",
       "        vertical-align: top;\n",
       "    }\n",
       "\n",
       "    .dataframe thead th {\n",
       "        text-align: right;\n",
       "    }\n",
       "</style>\n",
       "<table border=\"1\" class=\"dataframe\">\n",
       "  <thead>\n",
       "    <tr style=\"text-align: right;\">\n",
       "      <th></th>\n",
       "      <th>txt_r1</th>\n",
       "      <th>txt_r5</th>\n",
       "      <th>txt_r10</th>\n",
       "      <th>txt_r_mean</th>\n",
       "      <th>img_r1</th>\n",
       "      <th>img_r5</th>\n",
       "      <th>img_r10</th>\n",
       "      <th>img_r_mean</th>\n",
       "      <th>r_mean</th>\n",
       "    </tr>\n",
       "  </thead>\n",
       "  <tbody>\n",
       "    <tr>\n",
       "      <th>0</th>\n",
       "      <td>75.8</td>\n",
       "      <td>92.9</td>\n",
       "      <td>96.2</td>\n",
       "      <td>58.8</td>\n",
       "      <td>57.7</td>\n",
       "      <td>81.9</td>\n",
       "      <td>92.0</td>\n",
       "      <td>50.7</td>\n",
       "      <td>54.7</td>\n",
       "    </tr>\n",
       "  </tbody>\n",
       "</table>\n",
       "</div>"
      ],
      "text/plain": [
       "   txt_r1  txt_r5  txt_r10  txt_r_mean  img_r1  img_r5  img_r10  img_r_mean  \\\n",
       "0    75.8    92.9     96.2        58.8    57.7    81.9     92.0        50.7   \n",
       "\n",
       "   r_mean  \n",
       "0    54.7  "
      ]
     },
     "execution_count": 76,
     "metadata": {},
     "output_type": "execute_result"
    }
   ],
   "source": [
    "pd.DataFrame(coco).mean(axis=0).to_frame().T.round(to_digits)"
   ]
  },
  {
   "cell_type": "code",
   "execution_count": 77,
   "id": "4d2a5d55",
   "metadata": {},
   "outputs": [
    {
     "data": {
      "text/html": [
       "<div>\n",
       "<style scoped>\n",
       "    .dataframe tbody tr th:only-of-type {\n",
       "        vertical-align: middle;\n",
       "    }\n",
       "\n",
       "    .dataframe tbody tr th {\n",
       "        vertical-align: top;\n",
       "    }\n",
       "\n",
       "    .dataframe thead th {\n",
       "        text-align: right;\n",
       "    }\n",
       "</style>\n",
       "<table border=\"1\" class=\"dataframe\">\n",
       "  <thead>\n",
       "    <tr style=\"text-align: right;\">\n",
       "      <th></th>\n",
       "      <th>txt_r1</th>\n",
       "      <th>txt_r5</th>\n",
       "      <th>txt_r10</th>\n",
       "      <th>txt_r_mean</th>\n",
       "      <th>img_r1</th>\n",
       "      <th>img_r5</th>\n",
       "      <th>img_r10</th>\n",
       "      <th>img_r_mean</th>\n",
       "      <th>r_mean</th>\n",
       "    </tr>\n",
       "  </thead>\n",
       "  <tbody>\n",
       "    <tr>\n",
       "      <th>0</th>\n",
       "      <td>0.29</td>\n",
       "      <td>0.3</td>\n",
       "      <td>0.1</td>\n",
       "      <td>50.94</td>\n",
       "      <td>0.21</td>\n",
       "      <td>0.39</td>\n",
       "      <td>5.55</td>\n",
       "      <td>43.89</td>\n",
       "      <td>47.41</td>\n",
       "    </tr>\n",
       "  </tbody>\n",
       "</table>\n",
       "</div>"
      ],
      "text/plain": [
       "   txt_r1  txt_r5  txt_r10  txt_r_mean  img_r1  img_r5  img_r10  img_r_mean  \\\n",
       "0    0.29     0.3      0.1       50.94    0.21    0.39     5.55       43.89   \n",
       "\n",
       "   r_mean  \n",
       "0   47.41  "
      ]
     },
     "execution_count": 77,
     "metadata": {},
     "output_type": "execute_result"
    }
   ],
   "source": [
    "pd.DataFrame(coco).std(axis=0).to_frame().T.round(2)"
   ]
  },
  {
   "cell_type": "markdown",
   "id": "532b2a52",
   "metadata": {},
   "source": [
    "# Flickr"
   ]
  },
  {
   "cell_type": "code",
   "execution_count": 72,
   "id": "662ad9f4",
   "metadata": {},
   "outputs": [],
   "source": [
    "flickr = [\n",
    "    {'txt_r1': 94.8, 'txt_r5': 99.6, 'txt_r10': 99.7, 'txt_r_mean': 0, 'img_r1': 83.2, 'img_r5': 96.5, 'img_r10': 98.2, 'img_r_mean': 0, 'r_mean': 0},\n",
    "    {'txt_r1': 94.7, 'txt_r5': 99.6, 'txt_r10': 99.8, 'txt_r_mean': 98.03333333333335, 'img_r1': 83.32, 'img_r5': 96.28, 'img_r10': 98.14, 'img_r_mean': 92.58, 'r_mean': 95.30666666666667},\n",
    "    {'txt_r1': 94.5, 'txt_r5': 99.4, 'txt_r10': 99.7, 'txt_r_mean': 97.86666666666667, 'img_r1': 83.5, 'img_r5': 96.58, 'img_r10': 98.26, 'img_r_mean': 92.77999999999999, 'r_mean': 95.32333333333332}\n",
    "]"
   ]
  },
  {
   "cell_type": "code",
   "execution_count": 73,
   "id": "e1a2e00b",
   "metadata": {},
   "outputs": [
    {
     "data": {
      "text/html": [
       "<div>\n",
       "<style scoped>\n",
       "    .dataframe tbody tr th:only-of-type {\n",
       "        vertical-align: middle;\n",
       "    }\n",
       "\n",
       "    .dataframe tbody tr th {\n",
       "        vertical-align: top;\n",
       "    }\n",
       "\n",
       "    .dataframe thead th {\n",
       "        text-align: right;\n",
       "    }\n",
       "</style>\n",
       "<table border=\"1\" class=\"dataframe\">\n",
       "  <thead>\n",
       "    <tr style=\"text-align: right;\">\n",
       "      <th></th>\n",
       "      <th>txt_r1</th>\n",
       "      <th>txt_r5</th>\n",
       "      <th>txt_r10</th>\n",
       "      <th>txt_r_mean</th>\n",
       "      <th>img_r1</th>\n",
       "      <th>img_r5</th>\n",
       "      <th>img_r10</th>\n",
       "      <th>img_r_mean</th>\n",
       "      <th>r_mean</th>\n",
       "    </tr>\n",
       "  </thead>\n",
       "  <tbody>\n",
       "    <tr>\n",
       "      <th>0</th>\n",
       "      <td>94.7</td>\n",
       "      <td>99.5</td>\n",
       "      <td>99.7</td>\n",
       "      <td>65.3</td>\n",
       "      <td>83.3</td>\n",
       "      <td>96.5</td>\n",
       "      <td>98.2</td>\n",
       "      <td>61.8</td>\n",
       "      <td>63.5</td>\n",
       "    </tr>\n",
       "  </tbody>\n",
       "</table>\n",
       "</div>"
      ],
      "text/plain": [
       "   txt_r1  txt_r5  txt_r10  txt_r_mean  img_r1  img_r5  img_r10  img_r_mean  \\\n",
       "0    94.7    99.5     99.7        65.3    83.3    96.5     98.2        61.8   \n",
       "\n",
       "   r_mean  \n",
       "0    63.5  "
      ]
     },
     "execution_count": 73,
     "metadata": {},
     "output_type": "execute_result"
    }
   ],
   "source": [
    "pd.DataFrame(flickr).mean(axis=0).to_frame().T.round(to_digits)"
   ]
  },
  {
   "cell_type": "code",
   "execution_count": 74,
   "id": "9efb767b",
   "metadata": {},
   "outputs": [
    {
     "data": {
      "text/html": [
       "<div>\n",
       "<style scoped>\n",
       "    .dataframe tbody tr th:only-of-type {\n",
       "        vertical-align: middle;\n",
       "    }\n",
       "\n",
       "    .dataframe tbody tr th {\n",
       "        vertical-align: top;\n",
       "    }\n",
       "\n",
       "    .dataframe thead th {\n",
       "        text-align: right;\n",
       "    }\n",
       "</style>\n",
       "<table border=\"1\" class=\"dataframe\">\n",
       "  <thead>\n",
       "    <tr style=\"text-align: right;\">\n",
       "      <th></th>\n",
       "      <th>txt_r1</th>\n",
       "      <th>txt_r5</th>\n",
       "      <th>txt_r10</th>\n",
       "      <th>txt_r_mean</th>\n",
       "      <th>img_r1</th>\n",
       "      <th>img_r5</th>\n",
       "      <th>img_r10</th>\n",
       "      <th>img_r_mean</th>\n",
       "      <th>r_mean</th>\n",
       "    </tr>\n",
       "  </thead>\n",
       "  <tbody>\n",
       "    <tr>\n",
       "      <th>0</th>\n",
       "      <td>0.15</td>\n",
       "      <td>0.12</td>\n",
       "      <td>0.06</td>\n",
       "      <td>56.55</td>\n",
       "      <td>0.15</td>\n",
       "      <td>0.16</td>\n",
       "      <td>0.06</td>\n",
       "      <td>53.51</td>\n",
       "      <td>55.03</td>\n",
       "    </tr>\n",
       "  </tbody>\n",
       "</table>\n",
       "</div>"
      ],
      "text/plain": [
       "   txt_r1  txt_r5  txt_r10  txt_r_mean  img_r1  img_r5  img_r10  img_r_mean  \\\n",
       "0    0.15    0.12     0.06       56.55    0.15    0.16     0.06       53.51   \n",
       "\n",
       "   r_mean  \n",
       "0   55.03  "
      ]
     },
     "execution_count": 74,
     "metadata": {},
     "output_type": "execute_result"
    }
   ],
   "source": [
    "pd.DataFrame(flickr).std(axis=0).to_frame().T.round(2)"
   ]
  },
  {
   "cell_type": "markdown",
   "id": "e385899f",
   "metadata": {},
   "source": [
    "## Flickr 0-shot"
   ]
  },
  {
   "cell_type": "code",
   "execution_count": 78,
   "id": "27bf11ef",
   "metadata": {},
   "outputs": [],
   "source": [
    "flickr_zshot = [\n",
    "    {'txt_r1': 91.7, 'txt_r5': 98.8, 'txt_r10': 99.0, 'txt_r_mean': 0, 'img_r1': 78.5, 'img_r5': 94.2, 'img_r10': 96.8, 'img_r_mean': 0, 'r_mean': 0},\n",
    "    {'txt_r1': 91.7, 'txt_r5': 98.3, 'txt_r10': 99.0, 'txt_r_mean': 96.33333333333333, 'img_r1': 77.88, 'img_r5': 93.84, 'img_r10': 96.68, 'img_r_mean': 89.46666666666665, 'r_mean': 92.89999999999999},\n",
    "    {'txt_r1': 92.4, 'txt_r5': 98.7, 'txt_r10': 99.3, 'txt_r_mean': 96.80000000000001, 'img_r1': 77.84, 'img_r5': 93.66, 'img_r10': 96.36, 'img_r_mean': 89.28666666666668, 'r_mean': 93.04333333333335}\n",
    "]"
   ]
  },
  {
   "cell_type": "code",
   "execution_count": 79,
   "id": "17011a2b",
   "metadata": {},
   "outputs": [
    {
     "data": {
      "text/html": [
       "<div>\n",
       "<style scoped>\n",
       "    .dataframe tbody tr th:only-of-type {\n",
       "        vertical-align: middle;\n",
       "    }\n",
       "\n",
       "    .dataframe tbody tr th {\n",
       "        vertical-align: top;\n",
       "    }\n",
       "\n",
       "    .dataframe thead th {\n",
       "        text-align: right;\n",
       "    }\n",
       "</style>\n",
       "<table border=\"1\" class=\"dataframe\">\n",
       "  <thead>\n",
       "    <tr style=\"text-align: right;\">\n",
       "      <th></th>\n",
       "      <th>txt_r1</th>\n",
       "      <th>txt_r5</th>\n",
       "      <th>txt_r10</th>\n",
       "      <th>txt_r_mean</th>\n",
       "      <th>img_r1</th>\n",
       "      <th>img_r5</th>\n",
       "      <th>img_r10</th>\n",
       "      <th>img_r_mean</th>\n",
       "      <th>r_mean</th>\n",
       "    </tr>\n",
       "  </thead>\n",
       "  <tbody>\n",
       "    <tr>\n",
       "      <th>0</th>\n",
       "      <td>91.9</td>\n",
       "      <td>98.6</td>\n",
       "      <td>99.1</td>\n",
       "      <td>64.4</td>\n",
       "      <td>78.1</td>\n",
       "      <td>93.9</td>\n",
       "      <td>96.6</td>\n",
       "      <td>59.6</td>\n",
       "      <td>62.0</td>\n",
       "    </tr>\n",
       "  </tbody>\n",
       "</table>\n",
       "</div>"
      ],
      "text/plain": [
       "   txt_r1  txt_r5  txt_r10  txt_r_mean  img_r1  img_r5  img_r10  img_r_mean  \\\n",
       "0    91.9    98.6     99.1        64.4    78.1    93.9     96.6        59.6   \n",
       "\n",
       "   r_mean  \n",
       "0    62.0  "
      ]
     },
     "execution_count": 79,
     "metadata": {},
     "output_type": "execute_result"
    }
   ],
   "source": [
    "pd.DataFrame(flickr_zshot).mean(axis=0).to_frame().T.round(to_digits)"
   ]
  },
  {
   "cell_type": "code",
   "execution_count": 80,
   "id": "a51ee39f",
   "metadata": {},
   "outputs": [
    {
     "data": {
      "text/html": [
       "<div>\n",
       "<style scoped>\n",
       "    .dataframe tbody tr th:only-of-type {\n",
       "        vertical-align: middle;\n",
       "    }\n",
       "\n",
       "    .dataframe tbody tr th {\n",
       "        vertical-align: top;\n",
       "    }\n",
       "\n",
       "    .dataframe thead th {\n",
       "        text-align: right;\n",
       "    }\n",
       "</style>\n",
       "<table border=\"1\" class=\"dataframe\">\n",
       "  <thead>\n",
       "    <tr style=\"text-align: right;\">\n",
       "      <th></th>\n",
       "      <th>txt_r1</th>\n",
       "      <th>txt_r5</th>\n",
       "      <th>txt_r10</th>\n",
       "      <th>txt_r_mean</th>\n",
       "      <th>img_r1</th>\n",
       "      <th>img_r5</th>\n",
       "      <th>img_r10</th>\n",
       "      <th>img_r_mean</th>\n",
       "      <th>r_mean</th>\n",
       "    </tr>\n",
       "  </thead>\n",
       "  <tbody>\n",
       "    <tr>\n",
       "      <th>0</th>\n",
       "      <td>0.4</td>\n",
       "      <td>0.26</td>\n",
       "      <td>0.17</td>\n",
       "      <td>55.75</td>\n",
       "      <td>0.37</td>\n",
       "      <td>0.27</td>\n",
       "      <td>0.23</td>\n",
       "      <td>51.6</td>\n",
       "      <td>53.68</td>\n",
       "    </tr>\n",
       "  </tbody>\n",
       "</table>\n",
       "</div>"
      ],
      "text/plain": [
       "   txt_r1  txt_r5  txt_r10  txt_r_mean  img_r1  img_r5  img_r10  img_r_mean  \\\n",
       "0     0.4    0.26     0.17       55.75    0.37    0.27     0.23        51.6   \n",
       "\n",
       "   r_mean  \n",
       "0   53.68  "
      ]
     },
     "execution_count": 80,
     "metadata": {},
     "output_type": "execute_result"
    }
   ],
   "source": [
    "pd.DataFrame(flickr_zshot).std(axis=0).to_frame().T.round(2)"
   ]
  },
  {
   "cell_type": "markdown",
   "id": "b91b7956",
   "metadata": {},
   "source": [
    "# SIMLA-12"
   ]
  },
  {
   "cell_type": "markdown",
   "id": "2e12d275",
   "metadata": {},
   "source": [
    "## COCO"
   ]
  },
  {
   "cell_type": "code",
   "execution_count": 61,
   "id": "b37eedf5",
   "metadata": {},
   "outputs": [],
   "source": [
    "coco = [\n",
    "    {'txt_r1': 74.08, 'txt_r5': 92.14, 'txt_r10': 96.02, 'txt_r_mean': 87.41333333333334, 'img_r1': 56.440393379707366, 'img_r5': 81.0626049412329, 'img_r10': 88.33453266170945, 'img_r_mean': 75.27917699421657, 'r_mean': 81.34625516377496},\n",
    "    {'txt_r1': 74.12, 'txt_r5': 92.1, 'txt_r10': 96.08, 'txt_r_mean': 87.43333333333334, 'img_r1': 56.42440233469257, 'img_r5': 80.92668105860719, 'img_r10': 88.34652594547053, 'img_r_mean': 75.23253644625676, 'r_mean': 81.33293488979504},\n",
    "    {'txt_r1': 74.1, 'txt_r5': 92.36, 'txt_r10': 96.0, 'txt_r_mean': 87.48666666666666, 'img_r1': 56.3724314383945, 'img_r5': 80.93467658111457, 'img_r10': 88.33053490045575, 'img_r_mean': 75.21254763998827, 'r_mean': 81.34960715332747}\n",
    "]"
   ]
  },
  {
   "cell_type": "code",
   "execution_count": 62,
   "id": "3ac0f19c",
   "metadata": {},
   "outputs": [
    {
     "data": {
      "text/html": [
       "<div>\n",
       "<style scoped>\n",
       "    .dataframe tbody tr th:only-of-type {\n",
       "        vertical-align: middle;\n",
       "    }\n",
       "\n",
       "    .dataframe tbody tr th {\n",
       "        vertical-align: top;\n",
       "    }\n",
       "\n",
       "    .dataframe thead th {\n",
       "        text-align: right;\n",
       "    }\n",
       "</style>\n",
       "<table border=\"1\" class=\"dataframe\">\n",
       "  <thead>\n",
       "    <tr style=\"text-align: right;\">\n",
       "      <th></th>\n",
       "      <th>txt_r1</th>\n",
       "      <th>txt_r5</th>\n",
       "      <th>txt_r10</th>\n",
       "      <th>txt_r_mean</th>\n",
       "      <th>img_r1</th>\n",
       "      <th>img_r5</th>\n",
       "      <th>img_r10</th>\n",
       "      <th>img_r_mean</th>\n",
       "      <th>r_mean</th>\n",
       "    </tr>\n",
       "  </thead>\n",
       "  <tbody>\n",
       "    <tr>\n",
       "      <th>0</th>\n",
       "      <td>74.1</td>\n",
       "      <td>92.2</td>\n",
       "      <td>96.0</td>\n",
       "      <td>87.4</td>\n",
       "      <td>56.4</td>\n",
       "      <td>81.0</td>\n",
       "      <td>88.3</td>\n",
       "      <td>75.2</td>\n",
       "      <td>81.3</td>\n",
       "    </tr>\n",
       "  </tbody>\n",
       "</table>\n",
       "</div>"
      ],
      "text/plain": [
       "   txt_r1  txt_r5  txt_r10  txt_r_mean  img_r1  img_r5  img_r10  img_r_mean  \\\n",
       "0    74.1    92.2     96.0        87.4    56.4    81.0     88.3        75.2   \n",
       "\n",
       "   r_mean  \n",
       "0    81.3  "
      ]
     },
     "execution_count": 62,
     "metadata": {},
     "output_type": "execute_result"
    }
   ],
   "source": [
    "pd.DataFrame(coco).mean(axis=0).to_frame().T.round(to_digits)"
   ]
  },
  {
   "cell_type": "code",
   "execution_count": 69,
   "id": "35fb682f",
   "metadata": {},
   "outputs": [
    {
     "data": {
      "text/html": [
       "<div>\n",
       "<style scoped>\n",
       "    .dataframe tbody tr th:only-of-type {\n",
       "        vertical-align: middle;\n",
       "    }\n",
       "\n",
       "    .dataframe tbody tr th {\n",
       "        vertical-align: top;\n",
       "    }\n",
       "\n",
       "    .dataframe thead th {\n",
       "        text-align: right;\n",
       "    }\n",
       "</style>\n",
       "<table border=\"1\" class=\"dataframe\">\n",
       "  <thead>\n",
       "    <tr style=\"text-align: right;\">\n",
       "      <th></th>\n",
       "      <th>txt_r1</th>\n",
       "      <th>txt_r5</th>\n",
       "      <th>txt_r10</th>\n",
       "      <th>txt_r_mean</th>\n",
       "      <th>img_r1</th>\n",
       "      <th>img_r5</th>\n",
       "      <th>img_r10</th>\n",
       "      <th>img_r_mean</th>\n",
       "      <th>r_mean</th>\n",
       "    </tr>\n",
       "  </thead>\n",
       "  <tbody>\n",
       "    <tr>\n",
       "      <th>0</th>\n",
       "      <td>0.02</td>\n",
       "      <td>0.14</td>\n",
       "      <td>0.04</td>\n",
       "      <td>0.04</td>\n",
       "      <td>0.04</td>\n",
       "      <td>0.08</td>\n",
       "      <td>0.01</td>\n",
       "      <td>0.03</td>\n",
       "      <td>0.01</td>\n",
       "    </tr>\n",
       "  </tbody>\n",
       "</table>\n",
       "</div>"
      ],
      "text/plain": [
       "   txt_r1  txt_r5  txt_r10  txt_r_mean  img_r1  img_r5  img_r10  img_r_mean  \\\n",
       "0    0.02    0.14     0.04        0.04    0.04    0.08     0.01        0.03   \n",
       "\n",
       "   r_mean  \n",
       "0    0.01  "
      ]
     },
     "execution_count": 69,
     "metadata": {},
     "output_type": "execute_result"
    }
   ],
   "source": [
    "pd.DataFrame(coco).std(axis=0).to_frame().T.round(2)"
   ]
  },
  {
   "cell_type": "markdown",
   "id": "cd5afc0e",
   "metadata": {},
   "source": [
    "## Flickr"
   ]
  },
  {
   "cell_type": "code",
   "execution_count": 64,
   "id": "da532eca",
   "metadata": {},
   "outputs": [],
   "source": [
    "flickr = [\n",
    "    {'txt_r1': 92.0, 'txt_r5': 98.6, 'txt_r10': 99.4, 'txt_r_mean': 96.66666666666667, 'img_r1': 79.9, 'img_r5': 95.26, 'img_r10': 97.32, 'img_r_mean': 90.82666666666667, 'r_mean': 93.74666666666667},\n",
    "    {'txt_r1': 92.0, 'txt_r5': 98.9, 'txt_r10': 99.5, 'txt_r_mean': 96.8, 'img_r1': 79.84, 'img_r5': 95.24, 'img_r10': 97.58, 'img_r_mean': 90.88666666666666, 'r_mean': 93.84333333333333},\n",
    "    {'txt_r1': 92.0, 'txt_r5': 98.5, 'txt_r10': 99.4, 'txt_r_mean': 96.63333333333333, 'img_r1': 79.68, 'img_r5': 95.06, 'img_r10': 97.56, 'img_r_mean': 90.76666666666667, 'r_mean': 93.69999999999999}\n",
    "]"
   ]
  },
  {
   "cell_type": "code",
   "execution_count": 65,
   "id": "f6813a17",
   "metadata": {},
   "outputs": [
    {
     "data": {
      "text/html": [
       "<div>\n",
       "<style scoped>\n",
       "    .dataframe tbody tr th:only-of-type {\n",
       "        vertical-align: middle;\n",
       "    }\n",
       "\n",
       "    .dataframe tbody tr th {\n",
       "        vertical-align: top;\n",
       "    }\n",
       "\n",
       "    .dataframe thead th {\n",
       "        text-align: right;\n",
       "    }\n",
       "</style>\n",
       "<table border=\"1\" class=\"dataframe\">\n",
       "  <thead>\n",
       "    <tr style=\"text-align: right;\">\n",
       "      <th></th>\n",
       "      <th>txt_r1</th>\n",
       "      <th>txt_r5</th>\n",
       "      <th>txt_r10</th>\n",
       "      <th>txt_r_mean</th>\n",
       "      <th>img_r1</th>\n",
       "      <th>img_r5</th>\n",
       "      <th>img_r10</th>\n",
       "      <th>img_r_mean</th>\n",
       "      <th>r_mean</th>\n",
       "    </tr>\n",
       "  </thead>\n",
       "  <tbody>\n",
       "    <tr>\n",
       "      <th>0</th>\n",
       "      <td>92.0</td>\n",
       "      <td>98.7</td>\n",
       "      <td>99.4</td>\n",
       "      <td>96.7</td>\n",
       "      <td>79.8</td>\n",
       "      <td>95.2</td>\n",
       "      <td>97.5</td>\n",
       "      <td>90.8</td>\n",
       "      <td>93.8</td>\n",
       "    </tr>\n",
       "  </tbody>\n",
       "</table>\n",
       "</div>"
      ],
      "text/plain": [
       "   txt_r1  txt_r5  txt_r10  txt_r_mean  img_r1  img_r5  img_r10  img_r_mean  \\\n",
       "0    92.0    98.7     99.4        96.7    79.8    95.2     97.5        90.8   \n",
       "\n",
       "   r_mean  \n",
       "0    93.8  "
      ]
     },
     "execution_count": 65,
     "metadata": {},
     "output_type": "execute_result"
    }
   ],
   "source": [
    "pd.DataFrame(flickr).mean(axis=0).to_frame().T.round(to_digits)"
   ]
  },
  {
   "cell_type": "code",
   "execution_count": 70,
   "id": "0bbf8f83",
   "metadata": {},
   "outputs": [
    {
     "data": {
      "text/html": [
       "<div>\n",
       "<style scoped>\n",
       "    .dataframe tbody tr th:only-of-type {\n",
       "        vertical-align: middle;\n",
       "    }\n",
       "\n",
       "    .dataframe tbody tr th {\n",
       "        vertical-align: top;\n",
       "    }\n",
       "\n",
       "    .dataframe thead th {\n",
       "        text-align: right;\n",
       "    }\n",
       "</style>\n",
       "<table border=\"1\" class=\"dataframe\">\n",
       "  <thead>\n",
       "    <tr style=\"text-align: right;\">\n",
       "      <th></th>\n",
       "      <th>txt_r1</th>\n",
       "      <th>txt_r5</th>\n",
       "      <th>txt_r10</th>\n",
       "      <th>txt_r_mean</th>\n",
       "      <th>img_r1</th>\n",
       "      <th>img_r5</th>\n",
       "      <th>img_r10</th>\n",
       "      <th>img_r_mean</th>\n",
       "      <th>r_mean</th>\n",
       "    </tr>\n",
       "  </thead>\n",
       "  <tbody>\n",
       "    <tr>\n",
       "      <th>0</th>\n",
       "      <td>0.0</td>\n",
       "      <td>0.21</td>\n",
       "      <td>0.06</td>\n",
       "      <td>0.09</td>\n",
       "      <td>0.11</td>\n",
       "      <td>0.11</td>\n",
       "      <td>0.14</td>\n",
       "      <td>0.06</td>\n",
       "      <td>0.07</td>\n",
       "    </tr>\n",
       "  </tbody>\n",
       "</table>\n",
       "</div>"
      ],
      "text/plain": [
       "   txt_r1  txt_r5  txt_r10  txt_r_mean  img_r1  img_r5  img_r10  img_r_mean  \\\n",
       "0     0.0    0.21     0.06        0.09    0.11    0.11     0.14        0.06   \n",
       "\n",
       "   r_mean  \n",
       "0    0.07  "
      ]
     },
     "execution_count": 70,
     "metadata": {},
     "output_type": "execute_result"
    }
   ],
   "source": [
    "pd.DataFrame(flickr).std(axis=0).to_frame().T.round(2)"
   ]
  },
  {
   "cell_type": "markdown",
   "id": "a03a25f2",
   "metadata": {},
   "source": [
    "## Flickr 0-shot"
   ]
  },
  {
   "cell_type": "code",
   "execution_count": 67,
   "id": "2b4cb3f5",
   "metadata": {},
   "outputs": [],
   "source": [
    "flickr_zshot = [\n",
    "    {'txt_r1': 88.9, 'txt_r5': 98.1, 'txt_r10': 99.0, 'txt_r_mean': 95.33333333333333, 'img_r1': 75.34, 'img_r5': 93.08, 'img_r10': 96.12, 'img_r_mean': 88.18, 'r_mean': 91.75666666666666},\n",
    "    {'txt_r1': 89.6, 'txt_r5': 98.2, 'txt_r10': 98.9, 'txt_r_mean': 95.56666666666668, 'img_r1': 75.42, 'img_r5': 92.92, 'img_r10': 96.06, 'img_r_mean': 88.13333333333333, 'r_mean': 91.85},\n",
    "    {'txt_r1': 89.4, 'txt_r5': 97.8, 'txt_r10': 99.0, 'txt_r_mean': 95.39999999999999, 'img_r1': 75.46, 'img_r5': 93.08, 'img_r10': 96.22, 'img_r_mean': 88.25333333333333, 'r_mean': 91.82666666666665}\n",
    "]"
   ]
  },
  {
   "cell_type": "code",
   "execution_count": 68,
   "id": "aa92fd13",
   "metadata": {},
   "outputs": [
    {
     "data": {
      "text/html": [
       "<div>\n",
       "<style scoped>\n",
       "    .dataframe tbody tr th:only-of-type {\n",
       "        vertical-align: middle;\n",
       "    }\n",
       "\n",
       "    .dataframe tbody tr th {\n",
       "        vertical-align: top;\n",
       "    }\n",
       "\n",
       "    .dataframe thead th {\n",
       "        text-align: right;\n",
       "    }\n",
       "</style>\n",
       "<table border=\"1\" class=\"dataframe\">\n",
       "  <thead>\n",
       "    <tr style=\"text-align: right;\">\n",
       "      <th></th>\n",
       "      <th>txt_r1</th>\n",
       "      <th>txt_r5</th>\n",
       "      <th>txt_r10</th>\n",
       "      <th>txt_r_mean</th>\n",
       "      <th>img_r1</th>\n",
       "      <th>img_r5</th>\n",
       "      <th>img_r10</th>\n",
       "      <th>img_r_mean</th>\n",
       "      <th>r_mean</th>\n",
       "    </tr>\n",
       "  </thead>\n",
       "  <tbody>\n",
       "    <tr>\n",
       "      <th>0</th>\n",
       "      <td>89.3</td>\n",
       "      <td>98.0</td>\n",
       "      <td>99.0</td>\n",
       "      <td>95.4</td>\n",
       "      <td>75.4</td>\n",
       "      <td>93.0</td>\n",
       "      <td>96.1</td>\n",
       "      <td>88.2</td>\n",
       "      <td>91.8</td>\n",
       "    </tr>\n",
       "  </tbody>\n",
       "</table>\n",
       "</div>"
      ],
      "text/plain": [
       "   txt_r1  txt_r5  txt_r10  txt_r_mean  img_r1  img_r5  img_r10  img_r_mean  \\\n",
       "0    89.3    98.0     99.0        95.4    75.4    93.0     96.1        88.2   \n",
       "\n",
       "   r_mean  \n",
       "0    91.8  "
      ]
     },
     "execution_count": 68,
     "metadata": {},
     "output_type": "execute_result"
    }
   ],
   "source": [
    "pd.DataFrame(flickr_zshot).mean(axis=0).to_frame().T.round(to_digits)"
   ]
  },
  {
   "cell_type": "code",
   "execution_count": 23,
   "id": "ac287c0c",
   "metadata": {},
   "outputs": [
    {
     "data": {
      "text/html": [
       "<div>\n",
       "<style scoped>\n",
       "    .dataframe tbody tr th:only-of-type {\n",
       "        vertical-align: middle;\n",
       "    }\n",
       "\n",
       "    .dataframe tbody tr th {\n",
       "        vertical-align: top;\n",
       "    }\n",
       "\n",
       "    .dataframe thead th {\n",
       "        text-align: right;\n",
       "    }\n",
       "</style>\n",
       "<table border=\"1\" class=\"dataframe\">\n",
       "  <thead>\n",
       "    <tr style=\"text-align: right;\">\n",
       "      <th></th>\n",
       "      <th>txt_r1</th>\n",
       "      <th>txt_r5</th>\n",
       "      <th>txt_r10</th>\n",
       "      <th>txt_r_mean</th>\n",
       "      <th>img_r1</th>\n",
       "      <th>img_r5</th>\n",
       "      <th>img_r10</th>\n",
       "      <th>img_r_mean</th>\n",
       "      <th>r_mean</th>\n",
       "    </tr>\n",
       "  </thead>\n",
       "  <tbody>\n",
       "    <tr>\n",
       "      <th>0</th>\n",
       "      <td>0.36</td>\n",
       "      <td>0.21</td>\n",
       "      <td>0.06</td>\n",
       "      <td>0.12</td>\n",
       "      <td>0.06</td>\n",
       "      <td>0.09</td>\n",
       "      <td>0.08</td>\n",
       "      <td>0.06</td>\n",
       "      <td>0.05</td>\n",
       "    </tr>\n",
       "  </tbody>\n",
       "</table>\n",
       "</div>"
      ],
      "text/plain": [
       "   txt_r1  txt_r5  txt_r10  txt_r_mean  img_r1  img_r5  img_r10  img_r_mean  \\\n",
       "0    0.36    0.21     0.06        0.12    0.06    0.09     0.08        0.06   \n",
       "\n",
       "   r_mean  \n",
       "0    0.05  "
      ]
     },
     "execution_count": 23,
     "metadata": {},
     "output_type": "execute_result"
    }
   ],
   "source": [
    "pd.DataFrame(flickr_zshot).std(axis=0).to_frame().T.round(to_digits)"
   ]
  },
  {
   "cell_type": "code",
   "execution_count": null,
   "id": "ca9bc8c5",
   "metadata": {},
   "outputs": [],
   "source": []
  }
 ],
 "metadata": {
  "kernelspec": {
   "display_name": "Python 3 (ipykernel)",
   "language": "python",
   "name": "python3"
  },
  "language_info": {
   "codemirror_mode": {
    "name": "ipython",
    "version": 3
   },
   "file_extension": ".py",
   "mimetype": "text/x-python",
   "name": "python",
   "nbconvert_exporter": "python",
   "pygments_lexer": "ipython3",
   "version": "3.7.11"
  }
 },
 "nbformat": 4,
 "nbformat_minor": 5
}
