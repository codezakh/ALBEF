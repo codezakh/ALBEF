{
 "cells": [
  {
   "cell_type": "markdown",
   "id": "2694e7b1",
   "metadata": {},
   "source": [
    "Prior to running this notebook, you have to do the following.\n",
    "1. Ensure that all the images from the visual genome dataset are in a _single_ folder. The raw dataset download splits the images into two folders.\n",
    "2. Download the _json_pretrain.zip_ file from the ALBEF repository. There are lots of differents ways to make pairs from Visual Genome. We use the same pairs as the ALBEF authors."
   ]
  },
  {
   "cell_type": "code",
   "execution_count": 9,
   "id": "6cf56c82",
   "metadata": {},
   "outputs": [],
   "source": [
    "import pandas as pd\n",
    "import json\n",
    "from pathlib import Path\n",
    "from tqdm.notebook import tqdm\n",
    "import os"
   ]
  },
  {
   "cell_type": "code",
   "execution_count": 11,
   "id": "cb25e5ee",
   "metadata": {},
   "outputs": [],
   "source": [
    "ALBEF_VG_PATH = Path('/net/acadia10a/data/zkhan/json_pretrain/vg.json')\n",
    "VG_DOWNLOAD_ROOT = Path('/net/acadia10a/data/zkhan/visual-genome-sandbox/')\n",
    "VG_IMAGES_PATH = VG_DOWNLOAD_ROOT / 'vg-images'"
   ]
  },
  {
   "cell_type": "code",
   "execution_count": 12,
   "id": "4868c081",
   "metadata": {},
   "outputs": [],
   "source": [
    "assert all([_.exists() for _ in (ALBEF_VG_PATH, VG_IMAGES_PATH)])"
   ]
  },
  {
   "cell_type": "code",
   "execution_count": 4,
   "id": "f8f0eae0",
   "metadata": {},
   "outputs": [],
   "source": [
    "with open(ALBEF_VG_PATH, 'r') as f:\n",
    "    albef_json = json.load(f)"
   ]
  },
  {
   "cell_type": "markdown",
   "id": "8ebf8e4f",
   "metadata": {},
   "source": [
    "What we're doing here is using the `image_id` key in ALBEF's pretraining JSON to get the path to the corresponding image in the downloaded version of the dataset. Then, we change the path from the path the ALBEF authors used to the path that works for our dataset."
   ]
  },
  {
   "cell_type": "code",
   "execution_count": 18,
   "id": "77485ced",
   "metadata": {},
   "outputs": [
    {
     "data": {
      "application/vnd.jupyter.widget-view+json": {
       "model_id": "7b62d4fe10ae4ba5a9009d3ec375d287",
       "version_major": 2,
       "version_minor": 0
      },
      "text/plain": [
       "  0%|          | 0/768536 [00:00<?, ?it/s]"
      ]
     },
     "metadata": {},
     "output_type": "display_data"
    }
   ],
   "source": [
    "for pair in tqdm(albef_json):\n",
    "    vg_id = int(pair['image_id'].split('_')[-1])\n",
    "    image_name = f'{vg_id}.jpg'\n",
    "    absolute_path = VG_IMAGES_PATH / image_name\n",
    "    assert absolute_path.exists()\n",
    "    relative_path = os.path.join(VG_IMAGES_PATH.stem, image_name)\n",
    "    pair['image']= str(relative_path)"
   ]
  },
  {
   "cell_type": "code",
   "execution_count": 20,
   "id": "0e567137",
   "metadata": {},
   "outputs": [],
   "source": [
    "vg_df = pd.DataFrame(albef_json)"
   ]
  },
  {
   "cell_type": "code",
   "execution_count": 23,
   "id": "4e265d09",
   "metadata": {},
   "outputs": [
    {
     "data": {
      "text/html": [
       "<div>\n",
       "<style scoped>\n",
       "    .dataframe tbody tr th:only-of-type {\n",
       "        vertical-align: middle;\n",
       "    }\n",
       "\n",
       "    .dataframe tbody tr th {\n",
       "        vertical-align: top;\n",
       "    }\n",
       "\n",
       "    .dataframe thead th {\n",
       "        text-align: right;\n",
       "    }\n",
       "</style>\n",
       "<table border=\"1\" class=\"dataframe\">\n",
       "  <thead>\n",
       "    <tr style=\"text-align: right;\">\n",
       "      <th></th>\n",
       "      <th>image</th>\n",
       "      <th>caption</th>\n",
       "      <th>image_id</th>\n",
       "    </tr>\n",
       "  </thead>\n",
       "  <tbody>\n",
       "    <tr>\n",
       "      <th>0</th>\n",
       "      <td>vg-images/1.jpg</td>\n",
       "      <td>trees line the sidewalk</td>\n",
       "      <td>vg_1</td>\n",
       "    </tr>\n",
       "    <tr>\n",
       "      <th>1</th>\n",
       "      <td>vg-images/1.jpg</td>\n",
       "      <td>sidewalk is made of bricks</td>\n",
       "      <td>vg_1</td>\n",
       "    </tr>\n",
       "    <tr>\n",
       "      <th>2</th>\n",
       "      <td>vg-images/1.jpg</td>\n",
       "      <td>cars are parked along the edge of the street</td>\n",
       "      <td>vg_1</td>\n",
       "    </tr>\n",
       "    <tr>\n",
       "      <th>3</th>\n",
       "      <td>vg-images/1.jpg</td>\n",
       "      <td>Trees with sparse foilage</td>\n",
       "      <td>vg_1</td>\n",
       "    </tr>\n",
       "    <tr>\n",
       "      <th>4</th>\n",
       "      <td>vg-images/1.jpg</td>\n",
       "      <td>A tall brick building with many windows</td>\n",
       "      <td>vg_1</td>\n",
       "    </tr>\n",
       "  </tbody>\n",
       "</table>\n",
       "</div>"
      ],
      "text/plain": [
       "             image                                       caption image_id\n",
       "0  vg-images/1.jpg                       trees line the sidewalk     vg_1\n",
       "1  vg-images/1.jpg                    sidewalk is made of bricks     vg_1\n",
       "2  vg-images/1.jpg  cars are parked along the edge of the street     vg_1\n",
       "3  vg-images/1.jpg                     Trees with sparse foilage     vg_1\n",
       "4  vg-images/1.jpg       A tall brick building with many windows     vg_1"
      ]
     },
     "execution_count": 23,
     "metadata": {},
     "output_type": "execute_result"
    }
   ],
   "source": [
    "vg_df.head()"
   ]
  },
  {
   "cell_type": "code",
   "execution_count": 22,
   "id": "37960c67",
   "metadata": {},
   "outputs": [],
   "source": [
    "vg_df.to_csv(VG_DOWNLOAD_ROOT / 'visual-genome-pairs.tsv', sep='\\t', index=False)"
   ]
  },
  {
   "cell_type": "markdown",
   "id": "6664b5b0",
   "metadata": {},
   "source": [
    "We wrote the dataframe to a CSV without absolute paths, because it makes regenerating the JSON _much_ easier if we change paths or need to run the code in a different setting. When we generate the actual JSON pairs that get fed into ALBEF, we use the absolute paths."
   ]
  },
  {
   "cell_type": "code",
   "execution_count": 24,
   "id": "370f3c8e",
   "metadata": {},
   "outputs": [],
   "source": [
    "vg_df['image'] =  vg_df['image'].apply(lambda s: str(VG_DOWNLOAD_ROOT / s))"
   ]
  },
  {
   "cell_type": "code",
   "execution_count": 26,
   "id": "54b39bf9",
   "metadata": {},
   "outputs": [],
   "source": [
    "vg_df.to_json(VG_DOWNLOAD_ROOT / 'visual-genome-pairs.json', orient='records')"
   ]
  },
  {
   "cell_type": "code",
   "execution_count": null,
   "id": "45c2dc79",
   "metadata": {},
   "outputs": [],
   "source": []
  }
 ],
 "metadata": {
  "kernelspec": {
   "display_name": "Python 3 (ipykernel)",
   "language": "python",
   "name": "python3"
  },
  "language_info": {
   "codemirror_mode": {
    "name": "ipython",
    "version": 3
   },
   "file_extension": ".py",
   "mimetype": "text/x-python",
   "name": "python",
   "nbconvert_exporter": "python",
   "pygments_lexer": "ipython3",
   "version": "3.7.11"
  }
 },
 "nbformat": 4,
 "nbformat_minor": 5
}
