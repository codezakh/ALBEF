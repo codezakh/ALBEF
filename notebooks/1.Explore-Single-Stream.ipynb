{
 "cells": [
  {
   "cell_type": "code",
   "execution_count": 2,
   "id": "8d516139",
   "metadata": {},
   "outputs": [],
   "source": [
    "import sys"
   ]
  },
  {
   "cell_type": "code",
   "execution_count": 4,
   "id": "896ce37b",
   "metadata": {},
   "outputs": [],
   "source": [
    "sys.path.insert(0, \"/home/zaid/Source/ALBEF/models\")"
   ]
  },
  {
   "cell_type": "code",
   "execution_count": 9,
   "id": "f7642d42",
   "metadata": {},
   "outputs": [],
   "source": [
    "from models.vit import VisionTransformer\n",
    "from transformers import BertModel, AutoTokenizer, BertConfig\n",
    "import torch"
   ]
  },
  {
   "cell_type": "code",
   "execution_count": 8,
   "id": "18b43ac1",
   "metadata": {},
   "outputs": [],
   "source": [
    "tokenizer = AutoTokenizer.from_pretrained('bert-base-uncased') \n",
    "text = \"this is a random image\""
   ]
  },
  {
   "cell_type": "code",
   "execution_count": 10,
   "id": "de93ff6e",
   "metadata": {},
   "outputs": [],
   "source": [
    "lm = BertModel(BertConfig())\n",
    "vm = VisionTransformer()\n",
    "tokens = torch.Tensor(tokenizer.encode(text)).long()"
   ]
  },
  {
   "cell_type": "code",
   "execution_count": 13,
   "id": "3b5d5b79",
   "metadata": {},
   "outputs": [
    {
     "data": {
      "text/plain": [
       "tensor([ 101, 2023, 2003, 1037, 6721, 3746,  102])"
      ]
     },
     "execution_count": 13,
     "metadata": {},
     "output_type": "execute_result"
    }
   ],
   "source": [
    "tokens"
   ]
  },
  {
   "cell_type": "markdown",
   "id": "224553a9",
   "metadata": {},
   "source": [
    "# How does ALBEF handle tokenization?\n",
    "The captions in the input JSON fed into ALBEF are raw text. They are loaded into the [`pretrain_dataset`](https://sourcegraph.com/github.com/salesforce/ALBEF/-/blob/dataset/caption_dataset.py?L97) class, where the `pre_caption` function does some basic preprocessing. \n",
    "It's then wrapped by a `create_dataset` function that doesn't alter the text data.\n",
    "So, in summary, the dataset that comes out of `create_dataset` has `str` typed text data, not integer input ids.\n",
    "The dataset then gets passed into a `create_loader` function, which also does not modify the text data. \n",
    "The tokenization happens in the [`train`](https://sourcegraph.com/github.com/salesforce/ALBEF@9e9a5e952f72374c15cea02d3c34013554c86513/-/blob/Pretrain.py?L59) function.\n",
    "\n",
    "```python\n",
    "text_input = tokenizer(text, padding='longest', truncation=True, max_length=25, return_tensors=\"pt\").to(device)\n",
    "```\n"
   ]
  },
  {
   "cell_type": "code",
   "execution_count": null,
   "id": "65819f15",
   "metadata": {},
   "outputs": [],
   "source": []
  }
 ],
 "metadata": {
  "kernelspec": {
   "display_name": "Python 3 (ipykernel)",
   "language": "python",
   "name": "python3"
  },
  "language_info": {
   "codemirror_mode": {
    "name": "ipython",
    "version": 3
   },
   "file_extension": ".py",
   "mimetype": "text/x-python",
   "name": "python",
   "nbconvert_exporter": "python",
   "pygments_lexer": "ipython3",
   "version": "3.7.10"
  }
 },
 "nbformat": 4,
 "nbformat_minor": 5
}
